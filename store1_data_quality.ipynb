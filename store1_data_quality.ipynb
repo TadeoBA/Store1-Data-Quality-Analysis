{
 "cells": [
  {
   "cell_type": "markdown",
   "metadata": {
    "id": "jrvwNQJi0P9l"
   },
   "source": [
    "An e-commerce company, Store 1, recently started collecting data about its customers. The ultimate goal of Store 1 is to better understand customer behavior and make data-driven decisions to enhance their online experience.\n",
    "\n",
    "As part of the analytics team, your first task is to assess the quality of a sample of collected data and prepare it for future analysis."
   ]
  },
  {
   "cell_type": "markdown",
   "metadata": {
    "id": "2utuFkVZ0P9p"
   },
   "source": [
    "# Questionnaire \n",
    "Store 1 aims to ensure consistency in data collection. As part of this initiative, the quality of the collected user data must be evaluated. You have been asked to review the collected data and propose changes. Below, you will find data about a particular user; review the data and identify any potential issues."
   ]
  },
  {
   "cell_type": "code",
   "execution_count": 1,
   "metadata": {
    "id": "v4ldWAes0P9q"
   },
   "outputs": [],
   "source": [
    "user_id = '32415'\n",
    "user_name = ' mike_reed '\n",
    "user_age = 32.0\n",
    "fav_categories = ['ELECTRONICS', 'SPORT', 'BOOKS']"
   ]
  },
  {
   "cell_type": "markdown",
   "metadata": {
    "id": "v5J9NgXf0P9r"
   },
   "source": [
    "**Options:**\n",
    "\n",
    "1. The data type for `user_id` should be changed from a string to an integer.\n",
    "\n",
    "2. The variable `user_name` contains a string with unnecessary spaces and an underscore between the first and last name.\n",
    "\n",
    "3. The data type of `user_age` is incorrect.\n",
    "\n",
    "4. The list `fav_categories` contains strings in uppercase. Instead, we should convert the values in the list to lowercase."
   ]
  },
  {
   "cell_type": "markdown",
   "metadata": {
    "id": "dZRSLSQV0P9s"
   },
   "source": [
    "Write in the Markdown cell below the numbers of the options you have identified as issues. If you have identified multiple issues, separate them with commas. For example, if you think numbers 1 and 3 are incorrect, write **1, 3**."
   ]
  },
  {
   "cell_type": "markdown",
   "metadata": {
    "id": "iCEVoi_A0P9s"
   },
   "source": [
    "**Write your response and explain your reasoning:**\n",
    "\n",
    "In my opinion, I identified the issues related to:\n",
    "\n",
    "- **Number 2:** The variable `user_name` has leading and trailing spaces in the name. This could cause problems when searching for or alphabetically sorting users.\n",
    "\n",
    "- **Number 3:** The format is correct (a decimal number), but it could be simplified if the age is always recorded as an integer.\n",
    "\n",
    "- **Number 4:** The list `fav_categories` is in uppercase, which is a good practice for maintaining consistency. However, \"SPORT\" could be made more specific (e.g., \"RUNNING,\" \"SOCCER\").  \n",
    "That said, if we follow the project instructions, the strings in the list should be converted to lowercase.\n",
    "\n"
   ]
  },
  {
   "cell_type": "markdown",
   "metadata": {
    "id": "qKAtWDqu0P9t"
   },
   "source": [
    "# Exercise 1\n",
    "Let's implement the changes we identified. First, we need to fix the issues with the user_name variable. As we saw, it has unnecessary spaces and an underscore as a separator between the first and last name. Your goal is to remove the spaces and then replace the underscore with a space."
   ]
  },
  {
   "cell_type": "code",
   "execution_count": 1,
   "metadata": {
    "id": "442z87Uq0P9t"
   },
   "outputs": [
    {
     "name": "stdout",
     "output_type": "stream",
     "text": [
      "mike reed\n"
     ]
    }
   ],
   "source": [
    "user_name = ' mike_reed '\n",
    "user_name = user_name.strip() # eliminar los espacios en la cadena original\n",
    "user_name = user_name.replace('_',' ')# reemplazar el guion bajo con el espacio\n",
    "\n",
    "print(user_name)"
   ]
  },
  {
   "cell_type": "markdown",
   "metadata": {
    "id": "g4YyN4WK0P9t"
   },
   "source": [
    "# Exercise 2\n",
    "Next, we need to split the updated user_name into two substrings to get a list containing two values: one for the first name and one for the last name."
   ]
  },
  {
   "cell_type": "code",
   "execution_count": 3,
   "metadata": {
    "id": "Q1L1ARfY0P9u"
   },
   "outputs": [
    {
     "name": "stdout",
     "output_type": "stream",
     "text": [
      "['mike', 'reed']\n"
     ]
    }
   ],
   "source": [
    "user_name = 'mike reed'\n",
    "name_split = user_name.split()# divide aquí el string user_name\n",
    "\n",
    "print(name_split)"
   ]
  },
  {
   "cell_type": "markdown",
   "metadata": {
    "id": "-VWZkZtc0P9u"
   },
   "source": [
    "# Exercise 3\n",
    "Great! Now we need to work on the user_age variable. As mentioned, it has an incorrect data type. Let's fix this issue by converting the data type and displaying the final result."
   ]
  },
  {
   "cell_type": "code",
   "execution_count": 4,
   "metadata": {
    "id": "WPpidP470P9u"
   },
   "outputs": [
    {
     "name": "stdout",
     "output_type": "stream",
     "text": [
      "32\n",
      "<class 'int'>\n"
     ]
    }
   ],
   "source": [
    "user_age = 32.0\n",
    "user_age = int(user_age)# cambia el tipo de datos para la edad de un usuario o usuaria\n",
    "\n",
    "print(user_age)\n",
    "print(type(user_age))"
   ]
  },
  {
   "cell_type": "markdown",
   "metadata": {
    "id": "xdfgaKd60P9v"
   },
   "source": [
    "# Exercise 4\n",
    "As we know, data is not always perfect. We need to consider scenarios where the value of user_age cannot be converted into an integer. To prevent our system from crashing, we need to take precautions.\n",
    "\n",
    "Write code that attempts to convert the user_age variable into an integer and assigns the transformed value to user_age_int. If the attempt fails, display a message asking the user to provide their age as a numerical value with the message:\n",
    "Please provide your age as a numerical value."
   ]
  },
  {
   "cell_type": "code",
   "execution_count": 5,
   "metadata": {
    "id": "duI5zn_O0P9v"
   },
   "outputs": [
    {
     "name": "stdout",
     "output_type": "stream",
     "text": [
      "Please provide your age as a numerical value\n"
     ]
    }
   ],
   "source": [
    "user_age = 'treinta y dos' # aquí está la variable que almacena la edad como un string.\n",
    "\n",
    "try:\n",
    "    user_age_int = user_age(int(user_age))\n",
    "    print(user_age_int)\n",
    "except:\n",
    "    print('Please provide your age as a numerical value') "
   ]
  },
  {
   "cell_type": "markdown",
   "metadata": {
    "id": "Q04i6KQH0P9v"
   },
   "source": [
    "# Exercise 5\n",
    "Finally, consider that all favorite categories are stored in uppercase. To populate a new list called fav_categories_low with the same categories but in lowercase, iterate over the values in the fav_categories list, modify them, and add the new values to the fav_categories_low list. As always, display the final result."
   ]
  },
  {
   "cell_type": "code",
   "execution_count": 6,
   "metadata": {
    "id": "AtQg6ie10P9v"
   },
   "outputs": [
    {
     "name": "stdout",
     "output_type": "stream",
     "text": [
      "['electronics', 'sport', 'books']\n"
     ]
    }
   ],
   "source": [
    "fav_categories = ['ELECTRONICS', 'SPORT', 'BOOKS']\n",
    "fav_categories_low = []\n",
    "\n",
    "for category in fav_categories:\n",
    "    fav_categories_low.append(category.lower()) # escribe tu código aquí\n",
    "\n",
    "# no elimines la siguiente declaración print\n",
    "print(fav_categories_low)"
   ]
  },
  {
   "cell_type": "markdown",
   "metadata": {
    "id": "w8J0RSee0P9w"
   },
   "source": [
    "# Exercise 6\n",
    "We have obtained additional information about the spending habits of our users, including the amount spent in each of their favorite categories. Management is interested in the following metrics:\n",
    "\n",
    "Total amount spent by the user.\n",
    "Minimum amount spent.\n",
    "Maximum amount spent.\n",
    "Let's calculate these values and display them on the screen:"
   ]
  },
  {
   "cell_type": "code",
   "execution_count": 7,
   "metadata": {
    "id": "BbhBAmcZ0P9w"
   },
   "outputs": [
    {
     "name": "stdout",
     "output_type": "stream",
     "text": [
      "1280\n",
      "894\n",
      "173\n"
     ]
    }
   ],
   "source": [
    "fav_categories_low = ['electronics', 'sport', 'books']\n",
    "spendings_per_category = [894, 213, 173]\n",
    "\n",
    "total_amount = sum(spendings_per_category)# escribe tu código aquí\n",
    "max_amount = max(spendings_per_category) # escribe tu código aquí\n",
    "min_amount = min(spendings_per_category) # escribe tu código aquí\n",
    "\n",
    "# no elimines la siguiente declaración print\n",
    "print(total_amount)\n",
    "print(max_amount)\n",
    "print(min_amount)"
   ]
  },
  {
   "cell_type": "markdown",
   "metadata": {
    "id": "hyPGzOt60P9w"
   },
   "source": [
    "# Exercise 7\n",
    "The company wants to offer discounts to loyal customers. Customers who make purchases totaling more than $1500 are considered loyal and will receive a discount.\n",
    "\n",
    "Our goal is to create a while loop that checks the total amount spent and stops when the target amount is reached. To simulate new purchases, the variable new_purchase generates a number between 30 and 80 in each iteration of the loop. This represents the money spent on a new purchase and should be added to the total.\n",
    "\n",
    "Once the target amount is reached and the while loop ends, display the final total amount."
   ]
  },
  {
   "cell_type": "code",
   "execution_count": 8,
   "metadata": {
    "id": "FmpTfK7C0P9x"
   },
   "outputs": [
    {
     "name": "stdout",
     "output_type": "stream",
     "text": [
      "Total de las compras: 1326\n",
      "Total de las compras: 1384\n",
      "Total de las compras: 1446\n",
      "Total de las compras: 1487\n",
      "Total de las compras: 1539\n",
      "1539\n"
     ]
    }
   ],
   "source": [
    "from random import randint\n",
    "\n",
    "total_amount_spent = 1280\n",
    "target_amount = 1500\n",
    "\n",
    "while total_amount_spent < target_amount:\n",
    "    new_purchase = randint(30, 80)\n",
    "    total_amount_spent += new_purchase\n",
    "    print(f'Total de las compras: {total_amount_spent}')    \n",
    "\n",
    "print(total_amount_spent)"
   ]
  },
  {
   "cell_type": "markdown",
   "metadata": {
    "id": "e9j2dOo60P9x"
   },
   "source": [
    "# Exercise 8\n",
    "Now we have all the information about a customer in the desired format. The company management has asked us to propose a way to summarize all the information about a user. Your goal is to create a formatted string that uses information from the variables user_id, user_name, and user_age.\n",
    "\n",
    "This is the final string we want to create:\n",
    "User 32415 is Mike who is 32 years old.\n",
    "\n",
    "\n"
   ]
  },
  {
   "cell_type": "code",
   "execution_count": 9,
   "metadata": {
    "id": "2dzhjYbm0P9x"
   },
   "outputs": [
    {
     "name": "stdout",
     "output_type": "stream",
     "text": [
      "User 32415 is mike reed who is 32 years old\n"
     ]
    }
   ],
   "source": [
    "user_id = '32415'\n",
    "user_name = ['mike', 'reed']\n",
    "user_age = 32\n",
    "\n",
    "# Une los elementos de user_name con un espacio entre ellos\n",
    "user_name_str = \" \".join(user_name)\n",
    "\n",
    "# Crea la cadena formateada con el nombre completo\n",
    "user_info = f\"User {user_id} is {user_name_str} who is {user_age} years old\"\n",
    "\n",
    "# no elimines la siguiente declaración print\n",
    "print(user_info)"
   ]
  },
  {
   "cell_type": "markdown",
   "metadata": {
    "id": "hJ38hJYU0P9x"
   },
   "source": [
    "As you know, companies collect and store data in a particular way. Store 1 wants to store all information about its customers in a table.\n",
    "\n",
    "| user_id | user_name | user_age | purchase_category | spending_per_category |\n",
    "| --- | --- | --- | --- | --- |\n",
    "| '32415' | 'mike', 'reed' | 32 | 'electronics', 'sport', 'books' | 894, 213, 173 |\n",
    "| '31980' | 'kate', 'morgan' | 24 | 'clothes', 'shoes' | 439, 390 |\n",
    "\n",
    "Technically, a table is simply a nested list containing a sublist for each customer.\n",
    "\n",
    "Store 1 has created such a table for its customers. It is stored in the variable users. Each sublist contains the user's ID, first and last name, age, favorite categories, and the amount spent in each category."
   ]
  },
  {
   "cell_type": "markdown",
   "metadata": {
    "id": "J7IXD3Zv0P9x"
   },
   "source": [
    "# Exercise 9\n",
    "To calculate the company's revenue, follow these steps:\n",
    "\n",
    "Use a for loop to iterate over the users list.\n",
    "Extract the spending list for each customer and sum up the values.\n",
    "Update the revenue total with each customer's total spending.\n",
    "This will give you the company's total revenue, which you will display on the screen at the end."
   ]
  },
  {
   "cell_type": "code",
   "execution_count": 10,
   "metadata": {
    "id": "d8jeNWXQ0P9y"
   },
   "outputs": [
    {
     "name": "stdout",
     "output_type": "stream",
     "text": [
      "2109\n"
     ]
    }
   ],
   "source": [
    "users = [\n",
    "\t  # este es el inicio de la primera sublista\n",
    "    ['32415', ['mike', 'reed'], 32, ['electronics', 'sport', 'books'],\n",
    "        [894, 213, 173]\n",
    "    ], # este es el final de la primera sublista\n",
    "\n",
    "    # este es el inicio de la segunda sublista\n",
    "    ['31980', ['kate', 'morgan'], 24, ['clothes', 'shoes'],\n",
    "        [439, 390]\n",
    "    ] # este es el final de la segunda sublista\n",
    "]\n",
    "\n",
    "revenue = 0\n",
    "\n",
    "for user in users:\n",
    "\tspendings_list = user[4]# extrae la lista de gastos de cada usuario o usuaria y suma los valores\n",
    "\ttotal_spendings = sum(spendings_list)# suma los gastos de todas las categorías para obtener el total de un usuario o una usuaria en particular\n",
    "\trevenue += total_spendings# actualiza los ingresos\n",
    "\n",
    "# no elimines la siguiente declaración print\n",
    "print(revenue)"
   ]
  },
  {
   "cell_type": "markdown",
   "metadata": {
    "id": "wR0om7Tk0P9y"
   },
   "source": [
    "# Exercise 10\n",
    "Iterate through the list of users provided and display the names of customers under 30 years old."
   ]
  },
  {
   "cell_type": "code",
   "execution_count": 11,
   "metadata": {
    "id": "KVdthJm70P9y"
   },
   "outputs": [
    {
     "name": "stdout",
     "output_type": "stream",
     "text": [
      "kate morgan\n",
      "samantha smith\n",
      "emily brown\n",
      "jose martinez\n",
      "james lee\n"
     ]
    }
   ],
   "source": [
    "users = [\n",
    "    ['32415', ['mike', 'reed'], 32, ['electronics', 'sport', 'books'],\n",
    "     [894, 213, 173]],\n",
    "    ['31980', ['kate', 'morgan'], 24, ['clothes', 'books'], [439,\n",
    "     390]],\n",
    "    ['32156', ['john', 'doe'], 37, ['electronics', 'home', 'food'],\n",
    "     [459, 120, 99]],\n",
    "    ['32761', ['samantha', 'smith'], 29, ['clothes', 'electronics',\n",
    "     'beauty'], [299, 679, 85]],\n",
    "    ['32984', ['david', 'white'], 41, ['books', 'home', 'sport'], [234,\n",
    "     329, 243]],\n",
    "    ['33001', ['emily', 'brown'], 26, ['beauty', 'home', 'food'], [213,\n",
    "     659, 79]],\n",
    "    ['33767', ['maria', 'garcia'], 33, ['clothes', 'food', 'beauty'],\n",
    "     [499, 189, 63]],\n",
    "    ['33912', ['jose', 'martinez'], 22, ['sport', 'electronics', 'home'\n",
    "     ], [259, 549, 109]],\n",
    "    ['34009', ['lisa', 'wilson'], 35, ['home', 'books', 'clothes'],\n",
    "     [329, 189, 329]],\n",
    "    ['34278', ['james', 'lee'], 28, ['beauty', 'clothes', 'electronics'\n",
    "     ], [189, 299, 579]],\n",
    "    ]\n",
    "\n",
    "clients_names_under_30 = [\n",
    "    \" \".join(user[1]) for user in users if user[2] < 30\n",
    "]\n",
    "\n",
    "for name in clients_names_under_30:\n",
    "    print(name)"
   ]
  },
  {
   "cell_type": "markdown",
   "metadata": {
    "id": "LBHWQenm0P9y"
   },
   "source": [
    "# Exercise 11\n",
    "Combine tasks 9 and 10 to print the names of users under 30 years old with a total spending exceeding $1000."
   ]
  },
  {
   "cell_type": "code",
   "execution_count": 12,
   "metadata": {
    "id": "HaQNXS-V0P9z"
   },
   "outputs": [
    {
     "name": "stdout",
     "output_type": "stream",
     "text": [
      "samantha smith\n",
      "james lee\n"
     ]
    }
   ],
   "source": [
    "users = [\n",
    "    ['32415', ['mike', 'reed'], 32, ['electronics', 'sport', 'books'],\n",
    "     [894, 213, 173]],\n",
    "    ['31980', ['kate', 'morgan'], 24, ['clothes', 'books'], [439,\n",
    "     390]],\n",
    "    ['32156', ['john', 'doe'], 37, ['electronics', 'home', 'food'],\n",
    "     [459, 120, 99]],\n",
    "    ['32761', ['samantha', 'smith'], 29, ['clothes', 'electronics',\n",
    "     'beauty'], [299, 679, 85]],\n",
    "    ['32984', ['david', 'white'], 41, ['books', 'home', 'sport'], [234,\n",
    "     329, 243]],\n",
    "    ['33001', ['emily', 'brown'], 26, ['beauty', 'home', 'food'], [213,\n",
    "     659, 79]],\n",
    "    ['33767', ['maria', 'garcia'], 33, ['clothes', 'food', 'beauty'],\n",
    "     [499, 189, 63]],\n",
    "    ['33912', ['jose', 'martinez'], 22, ['sport', 'electronics', 'home'\n",
    "     ], [259, 549, 109]],\n",
    "    ['34009', ['lisa', 'wilson'], 35, ['home', 'books', 'clothes'],\n",
    "     [329, 189, 329]],\n",
    "    ['34278', ['james', 'lee'], 28, ['beauty', 'clothes', 'electronics'\n",
    "     ], [189, 299, 579]],\n",
    "    ]\n",
    " \n",
    "for user in users:\n",
    "  if user[2] < 30:\n",
    "    total_spent = sum(user[4])\n",
    "    if total_spent > 1000:\n",
    "      full_name = \" \".join(user[1])\n",
    "      print(full_name)\n"
   ]
  },
  {
   "cell_type": "markdown",
   "metadata": {
    "id": "yRozkK0R0P90"
   },
   "source": [
    "# Exercise 12\n",
    "Now let's display the name and age of all users who have purchased clothing. Print the name and age in the same print statement."
   ]
  },
  {
   "cell_type": "code",
   "execution_count": 13,
   "metadata": {
    "id": "mSIyHq1f0P90",
    "scrolled": true
   },
   "outputs": [
    {
     "name": "stdout",
     "output_type": "stream",
     "text": [
      "kate morgan, 24 años\n",
      "samantha smith, 29 años\n",
      "maria garcia, 33 años\n",
      "lisa wilson, 35 años\n",
      "james lee, 28 años\n"
     ]
    }
   ],
   "source": [
    "users = [\n",
    "    ['32415', ['mike', 'reed'], 32, ['electronics', 'sport', 'books'],\n",
    "     [894, 213, 173]],\n",
    "    ['31980', ['kate', 'morgan'], 24, ['clothes', 'books'], [439,\n",
    "     390]],\n",
    "    ['32156', ['john', 'doe'], 37, ['electronics', 'home', 'food'],\n",
    "     [459, 120, 99]],\n",
    "    ['32761', ['samantha', 'smith'], 29, ['clothes', 'electronics',\n",
    "     'beauty'], [299, 679, 85]],\n",
    "    ['32984', ['david', 'white'], 41, ['books', 'home', 'sport'], [234,\n",
    "     329, 243]],\n",
    "    ['33001', ['emily', 'brown'], 26, ['beauty', 'home', 'food'], [213,\n",
    "     659, 79]],\n",
    "    ['33767', ['maria', 'garcia'], 33, ['clothes', 'food', 'beauty'],\n",
    "     [499, 189, 63]],\n",
    "    ['33912', ['jose', 'martinez'], 22, ['sport', 'electronics', 'home'\n",
    "     ], [259, 549, 109]],\n",
    "    ['34009', ['lisa', 'wilson'], 35, ['home', 'books', 'clothes'],\n",
    "     [329, 189, 329]],\n",
    "    ['34278', ['james', 'lee'], 28, ['beauty', 'clothes', 'electronics'\n",
    "     ], [189, 299, 579]],\n",
    "    ]\n",
    "\n",
    "users = [\n",
    "    ['32415', ['mike', 'reed'], 32, ['electronics', 'sport', 'books'], [894, 213, 173]],\n",
    "    ['31980', ['kate', 'morgan'], 24, ['clothes', 'books'], [439, 390]],\n",
    "    ['32156', ['john', 'doe'], 37, ['electronics', 'home', 'food'], [459, 120, 99]],\n",
    "    ['32761', ['samantha', 'smith'], 29, ['clothes', 'electronics', 'beauty'], [299, 679, 85]],\n",
    "    ['32984', ['david', 'white'], 41, ['books', 'home', 'sport'], [234, 329, 243]],\n",
    "    ['33001', ['emily', 'brown'], 26, ['beauty', 'home', 'food'], [213, 659, 79]],\n",
    "    ['33767', ['maria', 'garcia'], 33, ['clothes', 'food', 'beauty'], [499, 189, 63]],\n",
    "    ['33912', ['jose', 'martinez'], 22, ['sport', 'electronics', 'home'], [259, 549, 109]],\n",
    "    ['34009', ['lisa', 'wilson'], 35, ['home', 'books', 'clothes'], [329, 189, 329]],\n",
    "    ['34278', ['james', 'lee'], 28, ['beauty', 'clothes', 'electronics'], [189, 299, 579]],\n",
    "]\n",
    "\n",
    "for user in users:\n",
    "    if 'clothes' in user[3]:\n",
    "        first_name = user[1][0]\n",
    "        last_name = user[1][1]\n",
    "        age = user[2]\n",
    "        print(f\"{first_name} {last_name}, {age} años\")\n"
   ]
  },
  {
   "cell_type": "markdown",
   "metadata": {
    "id": "Bq0_-hvu0P91"
   },
   "source": [
    "## Write any final comments or reflections here:\n",
    "Store 1 has taken the first steps in collecting data about its customers. However, there is significant room for improvement in terms of data quality and analysis. By addressing these aspects, the company will be better positioned to understand its customers and make informed decisions that drive growth."
   ]
  }
 ],
 "metadata": {
  "ExecuteTimeLog": [
   {
    "duration": 22,
    "start_time": "2024-05-28T10:17:46.687Z"
   },
   {
    "duration": 11,
    "start_time": "2024-05-30T01:50:47.709Z"
   },
   {
    "duration": 6,
    "start_time": "2024-05-30T02:13:54.496Z"
   },
   {
    "duration": 14,
    "start_time": "2024-06-08T09:40:13.933Z"
   },
   {
    "duration": 317,
    "start_time": "2024-06-08T09:40:58.251Z"
   },
   {
    "duration": 10,
    "start_time": "2024-06-08T09:41:50.454Z"
   },
   {
    "duration": 320,
    "start_time": "2024-06-08T09:41:50.468Z"
   },
   {
    "duration": 0,
    "start_time": "2024-06-08T09:41:50.792Z"
   },
   {
    "duration": 0,
    "start_time": "2024-06-08T09:41:50.794Z"
   },
   {
    "duration": 0,
    "start_time": "2024-06-08T09:41:50.796Z"
   },
   {
    "duration": 0,
    "start_time": "2024-06-08T09:41:50.798Z"
   },
   {
    "duration": 0,
    "start_time": "2024-06-08T09:41:50.800Z"
   },
   {
    "duration": 0,
    "start_time": "2024-06-08T09:41:50.803Z"
   },
   {
    "duration": 1,
    "start_time": "2024-06-08T09:41:50.824Z"
   },
   {
    "duration": 0,
    "start_time": "2024-06-08T09:41:50.826Z"
   },
   {
    "duration": 0,
    "start_time": "2024-06-08T09:41:50.829Z"
   },
   {
    "duration": 0,
    "start_time": "2024-06-08T09:41:50.832Z"
   },
   {
    "duration": 0,
    "start_time": "2024-06-08T09:41:50.835Z"
   },
   {
    "duration": 5,
    "start_time": "2024-06-08T09:42:46.698Z"
   },
   {
    "duration": 5,
    "start_time": "2024-06-08T09:50:01.523Z"
   },
   {
    "duration": 23,
    "start_time": "2024-06-08T09:56:31.085Z"
   },
   {
    "duration": 6,
    "start_time": "2024-06-08T09:56:36.328Z"
   },
   {
    "duration": 5,
    "start_time": "2024-06-08T09:56:52.721Z"
   },
   {
    "duration": 5,
    "start_time": "2024-06-08T09:57:10.911Z"
   },
   {
    "duration": 5,
    "start_time": "2024-06-08T10:01:22.068Z"
   },
   {
    "duration": 7,
    "start_time": "2024-06-08T10:02:10.903Z"
   },
   {
    "duration": 7,
    "start_time": "2024-06-08T10:02:49.968Z"
   },
   {
    "duration": 23,
    "start_time": "2024-06-08T10:02:57.517Z"
   },
   {
    "duration": 5,
    "start_time": "2024-06-08T10:04:18.399Z"
   },
   {
    "duration": 24,
    "start_time": "2024-06-08T10:09:15.679Z"
   },
   {
    "duration": 6,
    "start_time": "2024-06-08T10:09:27.177Z"
   },
   {
    "duration": 8,
    "start_time": "2024-06-08T10:19:35.031Z"
   },
   {
    "duration": 31,
    "start_time": "2024-06-08T10:20:26.494Z"
   },
   {
    "duration": 6,
    "start_time": "2024-06-08T10:20:40.042Z"
   },
   {
    "duration": 5,
    "start_time": "2024-06-08T10:56:10.165Z"
   },
   {
    "duration": 7,
    "start_time": "2024-06-08T11:05:11.929Z"
   },
   {
    "duration": 5,
    "start_time": "2024-06-08T11:19:21.799Z"
   },
   {
    "duration": 9,
    "start_time": "2024-06-08T11:22:07.076Z"
   },
   {
    "duration": 7,
    "start_time": "2024-06-08T11:24:18.789Z"
   },
   {
    "duration": 5,
    "start_time": "2024-06-08T11:33:40.197Z"
   },
   {
    "duration": 39,
    "start_time": "2024-06-08T11:36:55.733Z"
   },
   {
    "duration": 28,
    "start_time": "2024-06-08T11:37:01.619Z"
   },
   {
    "duration": 8,
    "start_time": "2024-06-08T11:37:20.777Z"
   },
   {
    "duration": 13,
    "start_time": "2024-06-08T11:39:25.670Z"
   },
   {
    "duration": 81,
    "start_time": "2024-06-08T11:39:35.704Z"
   },
   {
    "duration": 10,
    "start_time": "2024-06-08T11:41:18.979Z"
   },
   {
    "duration": 14,
    "start_time": "2024-06-08T11:41:24.480Z"
   },
   {
    "duration": 10,
    "start_time": "2024-06-08T11:41:34.086Z"
   },
   {
    "duration": 15,
    "start_time": "2024-06-08T11:42:16.033Z"
   },
   {
    "duration": 11,
    "start_time": "2024-06-08T11:42:22.224Z"
   },
   {
    "duration": 13,
    "start_time": "2024-06-08T11:47:26.791Z"
   },
   {
    "duration": 17,
    "start_time": "2024-06-08T11:52:09.227Z"
   },
   {
    "duration": 12,
    "start_time": "2024-06-08T11:54:19.174Z"
   },
   {
    "duration": 10,
    "start_time": "2024-06-08T12:05:45.508Z"
   },
   {
    "duration": 5,
    "start_time": "2024-06-08T12:05:45.526Z"
   },
   {
    "duration": 6,
    "start_time": "2024-06-08T12:05:45.536Z"
   },
   {
    "duration": 6,
    "start_time": "2024-06-08T12:05:45.546Z"
   },
   {
    "duration": 6,
    "start_time": "2024-06-08T12:05:45.555Z"
   },
   {
    "duration": 59,
    "start_time": "2024-06-08T12:05:45.566Z"
   },
   {
    "duration": 7,
    "start_time": "2024-06-08T12:05:45.628Z"
   },
   {
    "duration": 6,
    "start_time": "2024-06-08T12:05:45.639Z"
   },
   {
    "duration": 6,
    "start_time": "2024-06-08T12:05:45.648Z"
   },
   {
    "duration": 8,
    "start_time": "2024-06-08T12:05:45.658Z"
   },
   {
    "duration": 12,
    "start_time": "2024-06-08T12:05:45.722Z"
   },
   {
    "duration": 13,
    "start_time": "2024-06-08T12:05:45.738Z"
   },
   {
    "duration": 18,
    "start_time": "2024-06-08T12:05:45.755Z"
   },
   {
    "duration": 6,
    "start_time": "2024-11-18T12:09:09.753Z"
   }
  ],
  "colab": {
   "provenance": []
  },
  "kernelspec": {
   "display_name": "Python 3 (ipykernel)",
   "language": "python",
   "name": "python3"
  },
  "language_info": {
   "codemirror_mode": {
    "name": "ipython",
    "version": 3
   },
   "file_extension": ".py",
   "mimetype": "text/x-python",
   "name": "python",
   "nbconvert_exporter": "python",
   "pygments_lexer": "ipython3",
   "version": "3.9.19"
  },
  "toc": {
   "base_numbering": 1,
   "nav_menu": {},
   "number_sections": true,
   "sideBar": true,
   "skip_h1_title": true,
   "title_cell": "Table of Contents",
   "title_sidebar": "Contents",
   "toc_cell": false,
   "toc_position": {},
   "toc_section_display": true,
   "toc_window_display": false
  }
 },
 "nbformat": 4,
 "nbformat_minor": 1
}
